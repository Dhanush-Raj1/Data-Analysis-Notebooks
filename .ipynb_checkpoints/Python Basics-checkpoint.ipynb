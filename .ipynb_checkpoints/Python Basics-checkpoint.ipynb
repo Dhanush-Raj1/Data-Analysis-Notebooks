{
 "cells": [
  {
   "cell_type": "markdown",
   "metadata": {},
   "source": [
    "## Variables"
   ]
  },
  {
   "cell_type": "raw",
   "metadata": {},
   "source": [
    "variables :\n",
    "    Variables are temporary storage spaces for storing data or values.\n",
    "    Letter, numbers, underscores can only be used\n",
    "    Cannot start with a number."
   ]
  },
  {
   "cell_type": "raw",
   "metadata": {},
   "source": [
    "Decision making statements : \n",
    "                     If statements.   \n",
    " \n",
    "pseudo code:\n",
    "                  if(conditons){\n",
    "                  statemnts to be executed\n",
    "                  }  \n",
    "             \n",
    "             \n",
    "                  else{statements to be executed}  "
   ]
  },
  {
   "cell_type": "markdown",
   "metadata": {},
   "source": [
    "## OOP"
   ]
  },
  {
   "cell_type": "raw",
   "metadata": {},
   "source": [
    "Object Oriented Programming:\n",
    "                \n",
    "          Class: Class are template or blueprints for real world entities.\n",
    "                 1.Properties\n",
    "                 2.Behaviour\n",
    "                \n",
    "          Object: Object are specific instances of a class.\n",
    "          \n",
    "          For example: * A phone is a class with,\n",
    "                           Properties are\n",
    "                            - color\n",
    "                            - cost\n",
    "                            - batter life\n",
    "                           Behaviour are\n",
    "                            - make calls\n",
    "                            - play games\n",
    "                            - watch videos,movies\n",
    "                            \n",
    "                       * An object of phone are \n",
    "                            - Apple\n",
    "                            - Samsung\n",
    "                            - Mi\n",
    "                       * Each object has different set of properties and behaviour for a class.\n",
    "                            - Apple has different color and ways to make calls.\n",
    "                            - Similarly samsung has different color and ways to make calls and play video games.\n",
    "                            \n",
    "                 "
   ]
  },
  {
   "cell_type": "raw",
   "metadata": {},
   "source": [
    "Algorithm: \n",
    "        A set of step by step approach to solve a problem or to perform a function.\n",
    "        The step by step approach includes\n",
    "            - Input\n",
    "            - Steps to be followed\n",
    "            - Output"
   ]
  },
  {
   "cell_type": "raw",
   "metadata": {},
   "source": [
    "IDE: \n",
    "   Integrated development environment. These are environments that provide number of tools to write code easier.\n",
    "   Jupyter notebook, PYcharm"
   ]
  },
  {
   "cell_type": "markdown",
   "metadata": {},
   "source": [
    "## Operators"
   ]
  },
  {
   "cell_type": "markdown",
   "metadata": {},
   "source": [
    "Operators: \n",
    "      We can perform different operations on a variable .\n",
    "      \n",
    "      1.Arthimetic operations\n",
    "         - '+'\n",
    "         - '-'\n",
    "         - '*'\n",
    "         - '/'\n",
    "         - '%' modulus (reminder)\n",
    "         - '**' exponentiation (raising power to an int)\n",
    "         - Python follows the order of mathematics i.e first it performs exponentiation and division, multiplication and then addition and subtraction.\n",
    "         \n",
    "         \n",
    "      2.Relational Operations \n",
    "         - '<'\n",
    "         - '>'\n",
    "         - '=='\n",
    "         - '!='\n",
    "         \n",
    "      3.Logical Operations\n",
    "         - 'and'                \n",
    "         - 'or'      \n",
    "         - 'not'\n",
    "         \n",
    "        Bitwise operations\n",
    "         - '&'\n",
    "         - '|'"
   ]
  },
  {
   "attachments": {
    "arthimetic%20shortcuts.PNG": {
     "image/png": "[encoded data removed]"
    }
   },
   "cell_type": "markdown",
   "metadata": {},
   "source": [
    " We can use shortcuts to perform arithmetic operations  \n",
    "   ![arthimetic%20shortcuts.PNG](attachment:arthimetic%20shortcuts.PNG)    "
   ]
  },
  {
   "cell_type": "code",
   "execution_count": null,
   "metadata": {
    "scrolled": true
   },
   "outputs": [],
   "source": [
    "## Relational Operators\n",
    "a=3\n",
    "b=6\n",
    "\n",
    "## and\n",
    "## will return True if both conditions are true\n",
    "print(a>3 and a<7)\n",
    "print(a==3 and a<6)\n",
    "\n",
    "## or\n",
    "## will return return true if any one condition is true\n",
    "print(a==3 or a<6)\n",
    "\n",
    "## not\n",
    "## return true if the given statement is false\n",
    "print(not(a==3))"
   ]
  },
  {
   "cell_type": "code",
   "execution_count": null,
   "metadata": {},
   "outputs": [],
   "source": [
    "## converting dtypes\n",
    "## int() functions converts a float to int by always downgrading the float value even if it is greater than .5\n",
    "\n",
    "a = 1.99\n",
    "print(int(a))\n",
    "\n",
    "## round() function can be used to round the value flexibily\n",
    "\n",
    "print(round(a))"
   ]
  },
  {
   "cell_type": "markdown",
   "metadata": {},
   "source": [
    "## Tokens"
   ]
  },
  {
   "cell_type": "raw",
   "metadata": {},
   "source": [
    "Tokens: \n",
    "    Tokens are smallest individual units or meaning full components in a program.\n",
    "    1.keywords\n",
    "        Keywords are special reserved words. eg: if,else,elif,def,True,False,not,or\n",
    "        \n",
    "    2.Identifiers\n",
    "        Identifiers are names used to identify variables,functions,objects.\n",
    "        NO special characters except _ and cannot start with a digit.\n",
    "        \n",
    "    3.Literals\n",
    "        Literals are constants in python. values of a variable are literals.\n",
    "    \n",
    "    4.Operators\n",
    "        Arthimetics,relational,logical operators.\n",
    "        "
   ]
  },
  {
   "cell_type": "markdown",
   "metadata": {},
   "source": [
    "## Strings"
   ]
  },
  {
   "cell_type": "raw",
   "metadata": {},
   "source": [
    "Strings: \n",
    "      Strings are set of characters in python with '',\"\",''' ''' quotes.\n",
    "      Spaces are included while extracting individual characters (the letter h can be extracted from str hello).\n",
    "      Spaces are not included while indexing and first element is inclusive and the last one is exclusive.\n",
    "    \n",
    "  eg:\n",
    "      mystring.upper()\n",
    "      \n",
    "      mystring.lower()\n",
    "      \n",
    "      mystring.replace('y','a') ##replacing y with a\n",
    "      \n",
    "      mystring.count(\"hello\")   ##counting number of hello's in the string\n",
    "      \n",
    "      mystring.find(\"hello\")    ##finding the index number of hello\n",
    "      \n",
    "      mystring.split(',')       ##splitting string where ever a , is present\n"
   ]
  },
  {
   "cell_type": "code",
   "execution_count": null,
   "metadata": {},
   "outputs": [],
   "source": [
    "## Quotation in a string\n",
    "## we can use both single and double quotations for a string\n",
    "## a string can contain a number, letter, spaces, special characters as long as it is enclosed with a quotation\n",
    "string1 = \"One Piece, 2, * ,_ , \"\n",
    "string2 = 'Naruto is the 2nd popular anime'\n",
    "\n",
    "\n",
    "\n",
    "## Confusions in a string\n",
    "## ' Facebook's customers are increasing'\n",
    "## In the above code python will understand the string ends with facebook' as it has a single quote. TO over come this \n",
    "## TO solve this we can use \"\" or a special function backslash \\ infront of the element.\n",
    "\n",
    "string3 = 'Facebooks\\'s customers are increasing'\n",
    "print(string3)\n",
    "\n",
    "\n",
    "\n",
    "## multiline string \n",
    "## use triple quotes ''' ''' or \"\"\" \"\"\"\n",
    "text_1 = '''This is a sentence.\n",
    "This is another sentence, on a different line.\n",
    "This is a third sentence.'''"
   ]
  },
  {
   "cell_type": "code",
   "execution_count": null,
   "metadata": {},
   "outputs": [],
   "source": [
    "## We can perform arithmetical operations with different strings\n",
    "\n",
    "print('a' + 'b')\n",
    "print('Hello',' ','World')\n",
    "print('One' + ' ' + 'Piece\\n')\n",
    "\n",
    "\n",
    "## We can concate a string with '*'\n",
    "print('a' * 5)\n",
    "\n",
    "\n",
    "## we cannot perform arithmetical operations with stings and int, float\n",
    "print('a'+ 3)\n",
    "print('a'+ 4.5)"
   ]
  },
  {
   "cell_type": "markdown",
   "metadata": {},
   "source": [
    "## Data Structures"
   ]
  },
  {
   "cell_type": "raw",
   "metadata": {},
   "source": [
    "Data structures:\n",
    "          1.Tuples\n",
    "          2.Lists\n",
    "          3.Dictionaries\n",
    "          4.Sets  "
   ]
  },
  {
   "cell_type": "markdown",
   "metadata": {},
   "source": [
    "## Tuples"
   ]
  },
  {
   "cell_type": "raw",
   "metadata": {},
   "source": [
    "1.Tuple\n",
    "      Collection of elements enclosed with ().\n",
    "      Tuples are immutable(unchangable) .\n",
    "      Can contain mixture of different elements i.e different dtypes of elements.\n",
    "      \n",
    "      eg: \n",
    "            tuple=(1,'raj',true)\n",
    "            \n",
    "            tuple*3  ##the elements in the tuple will increased to 3 times i.e tupe=(1,'raj',true,1,'raj',true',1,'raj',true)\n",
    "            \n",
    "            type(tuple)   ##checks the type of the tuple"
   ]
  },
  {
   "cell_type": "markdown",
   "metadata": {},
   "source": [
    "## Lists"
   ]
  },
  {
   "cell_type": "raw",
   "metadata": {},
   "source": [
    "2.Lists:\n",
    "       Lists are collection of elements enclosed with [].\n",
    "       Lists are mutable(changable) and can contain different dtypes.\n",
    "       \n",
    "   eg: \n",
    "       lst1=[1,'raj',true]\n",
    "       \n",
    "       lst1[1]='whitebeard'    ##changing raj with whitebeard\n",
    "       \n",
    "       lst1.append('roger')    ##adding new element \n",
    "       \n",
    "       lst1.pop('true')        ##deleting a element \n",
    "       \n",
    "       lst1.reverse()          ##reversing a list\n",
    "       \n",
    "       lst1.sort()             ##sorting a list\n",
    "       \n",
    "       lst1.insert(2,'shanks') ##inserting shanks at index 2"
   ]
  },
  {
   "cell_type": "markdown",
   "metadata": {},
   "source": [
    "## Dictionary"
   ]
  },
  {
   "cell_type": "raw",
   "metadata": {},
   "source": [
    "3.Dictionary: \n",
    "          - Dictionary is an unordered collection of key-value pairs enclosed with {}.\n",
    "          - Dictionary is mutable.\n",
    "          - The key of a dictionary should be unique.\n",
    "          - We can use the key to index dictionaries.\n",
    "          - Dictionary values can be of any data type: strings, integers, floats, Booleans, lists, and even dictionaries.\n",
    "          - Dictionary keys can be almost any data type, except lists and dictionaries.\n",
    "          - If we use an identical key for two or more different values, Python keeps only the first key and the last value and removes the others — this means that we'll lose data.\n",
    "          - An odd \"gotcha\" is when we mix integers with Booleans as dictionary keys. The hash() command converts the Boolean True to 1, and the Boolean False to 0. This means the Booleans True and False will conflict with the integers 0 and 1. The dictionary keys won't be unique anymore, and Python will only keep the first key and the last value in cases like that.\n",
    "          \n",
    "          \n",
    "          \n",
    "       eg:\n",
    "         dic={'raj':4,'whitebeard':3,'Roger':1}\n",
    "         \n",
    "         dic.keys()        ##extracting only keys\n",
    "         \n",
    "         dic.values()      ##extracting only values\n",
    "         \n",
    "         dic['shanks']=2   ##adding new key and value in dictionary\n",
    "         \n",
    "         dic['raj']=5      ##changing the value of an existing element\n",
    "         \n",
    "         dic.pop()         ##removing an element\n",
    "         \n",
    "         dic2={'Garp':1,'Sengoku':2,'Z';2}  \n",
    "         dic.update(dic2)  ##concatenating 2 dictionaries\n",
    "         \n",
    "         ## creating a dic with empty dic\n",
    "       syntax\n",
    "         dic_name = {}\n",
    "         dic_name[key] = value"
   ]
  },
  {
   "cell_type": "code",
   "execution_count": 2,
   "metadata": {},
   "outputs": [
    {
     "name": "stdout",
     "output_type": "stream",
     "text": [
      "True\n",
      "False\n"
     ]
    }
   ],
   "source": [
    "## in operators\n",
    "## returns true if present else false\n",
    "\n",
    "dic = {'raj':0, 'shanks':1, 'roger':2}\n",
    "print('raj' in dic)\n",
    "print(4 in dic)"
   ]
  },
  {
   "cell_type": "markdown",
   "metadata": {},
   "source": [
    "## Set"
   ]
  },
  {
   "cell_type": "raw",
   "metadata": {},
   "source": [
    "4.Set:\n",
    "       Set are unordered and unindexed collection of elements enclosed with {}.\n",
    "       Sets are mutable.\n",
    "       Duplicates are not allowed in a set.\n",
    "       \n",
    "  eg:\n",
    "      set1={1,'doflamingo',false}\n",
    "      \n",
    "      set1.add('black leg')    ##adding a new element the new element can be added at any index randomly since sets are                                                                                                             unindexed\n",
    "      set1.update([2,'dark king',5,'kaido',6,'rayliey'])  ##use update to add multiple elements\n",
    "      \n",
    "      set1.remove(1)           ##removing an element\n",
    "      \n",
    "      set2={4,'Water D Law',6,'Kid'}\n",
    "      set1.union(set2)         ##concatenating 2 sets\n",
    "      \n",
    "      set1.intersection(set2)  ##only the common elements of 2 sets will be saved or intersected\n",
    "    \n",
    "    \n",
    "  "
   ]
  },
  {
   "cell_type": "markdown",
   "metadata": {},
   "source": [
    "## If statement"
   ]
  },
  {
   "cell_type": "raw",
   "metadata": {},
   "source": [
    "If statement:\n",
    "      \n",
    "         ab=50\n",
    "         cd=60\n",
    "         if ab>cd:\n",
    "            print(\"ab is greater than cd\")\n",
    "         else:\n",
    "            print(\"ab is lesser than cd\")\n",
    "            \n",
    "   _________________________________________________________________________________________________________________       \n",
    "          \n",
    "         a=10\n",
    "         b=20\n",
    "         c=30\n",
    "         if (a>b & a>c):\n",
    "             print(\"a is greater\")\n",
    "         elif (b>a & b>c):\n",
    "             print(\"b is greater\")\n",
    "         else:\n",
    "             print(\"c is greater\")\n",
    "             \n",
    "  ___________________________________________________________________________________________________________________     \n",
    "          \n",
    "    ##if statement with tuple\n",
    "         tup=(1,2,'raj')\n",
    "         if 3 in tup:\n",
    "            print(\"3 is present\")\n",
    "         else:\n",
    "            print(\"3 is not present\")\n",
    "            \n",
    "  _____________________________________________________________________________________________________________________       \n",
    "         \n",
    "     ##if statement with list\n",
    "         lst=[1,2,3,4,5]\n",
    "         if lst[2]==3:\n",
    "             lst[2]=lst[2]+40\n",
    "           \n",
    "   ____________________________________________________________________________________________________________________       \n",
    "          \n",
    "     ##if statement with dictionary\n",
    "         dic={'math':100,'ip':99,'economics':90}\n",
    "         if dic['ip']==99:\n",
    "              dic['ip']=dic['ip']+1\n",
    "         else:\n",
    "              print('good')\n",
    "         "
   ]
  },
  {
   "cell_type": "markdown",
   "metadata": {},
   "source": [
    "## Looping Statements"
   ]
  },
  {
   "cell_type": "raw",
   "metadata": {},
   "source": [
    "Looping statements: \n",
    "            Looping statements are used to repeat a task multiple times. The task will be repeated until the condition is true.\n",
    "  \n",
    "  \n",
    "  \n",
    "1.while Loop:\n",
    "\n",
    "  pseudo code:\n",
    "                   while(TRUE){\n",
    "                   keep executing statements\n",
    "                   } \n",
    "                   \n",
    "                   \n",
    "     eg:\n",
    "          i=1\n",
    "          while i<=10:\n",
    "              print(i)\n",
    "              i=i+2    ##adding i with 2 will keep repeating till i is 10\n",
    "            \n",
    "            \n",
    "            \n",
    "            \n",
    "          i=1\n",
    "          n=2\n",
    "          while i<=10:\n",
    "              print(i,\"*\",n,\"=\",i*n)\n",
    "              i=i+1   ##multiplying i with n till i value is equal to 10\n",
    "             \n",
    "    _____________________________________________________________________________________________________________________             \n",
    "             \n",
    "       ##while with list\n",
    "       \n",
    "        lst=[1,2,3,4,5]\n",
    "        i=0\n",
    "        while i<len(lst):\n",
    "              lst[i]=lst[i]+100   ##lst will become 1+100 till i value will become 5 as len(lst) is 5\n",
    "              i=i+1\n",
    "              print(lst)\n",
    "              \n",
    "   ___________________________________________________________________________________________________________________           \n",
    "              \n",
    "2.For loop\n",
    "      For loop is used to iterate over a sequence(tuple,list,dictionary). Sequence is the order.\n",
    "      \n",
    "  pseudo code:\n",
    "       for val in sequence:\n",
    "            body of for\n",
    "              \n",
    "     eg: \n",
    "     \n",
    "         lst=['raj','whitebeard','roger']\n",
    "         for i in lst:           ##each value of lst will be stored in i then it will be printed till this task has been done \n",
    "             print(i)                                                              completely to the sequence of values in lst.\n",
    "         \n",
    "         \n",
    "         \n",
    "     Nested Loop:\n",
    "     \n",
    "     eg: \n",
    "     \n",
    "            lst1=['Gold','Edward','Monkey']\n",
    "            lst2=['Roger','Newgate','Luffy']\n",
    "            for i in lst1:            ##loop 1\n",
    "                for j in lst2:        ##loop 2\n",
    "                    print(i,j)     "
   ]
  },
  {
   "cell_type": "markdown",
   "metadata": {},
   "source": [
    "## Basic Problems"
   ]
  },
  {
   "cell_type": "code",
   "execution_count": null,
   "metadata": {},
   "outputs": [],
   "source": [
    "## 1.checking even,odd\n",
    "\n",
    "num=int(input(\"Enter a number=\"))\n",
    "if num%2==0:\n",
    "    print(\"The number is even\")\n",
    "else:\n",
    "    print(\"The number is odd\")"
   ]
  },
  {
   "cell_type": "code",
   "execution_count": null,
   "metadata": {},
   "outputs": [],
   "source": [
    "## 2.Checking positive,negative\n",
    "\n",
    "\n",
    "num=float(input(\"Enter a number=\"))\n",
    "if num>0:\n",
    "    print(\"The number is positive\")\n",
    "elif num==0:\n",
    "    print(\"0 is neither positive nor negative\")\n",
    "else: \n",
    "    print(\"The number is negative\")"
   ]
  },
  {
   "cell_type": "code",
   "execution_count": null,
   "metadata": {},
   "outputs": [],
   "source": [
    "## 3.Factorial of a number\n",
    "\n",
    "num=int(input(\"Enter a number=\"))\n",
    "factorial=1\n",
    "if num<0:\n",
    "    print(\"factorial does not exist for negative numbers\")\n",
    "elif num==0:\n",
    "    print(\"The Factorial of 0 is 1\")\n",
    "else:\n",
    "    for i in range(1,num+1):\n",
    "        factorial=factorial*i\n",
    "    print(\"The factorial of \",num,\"is\",factorial)\n"
   ]
  },
  {
   "cell_type": "code",
   "execution_count": null,
   "metadata": {},
   "outputs": [],
   "source": [
    "## 4.Reversing a number\n",
    "\n",
    "num=int(input(\"Enter a number=\"))\n",
    "reverse=0\n",
    "while(num>0):\n",
    "    dig=num%10\n",
    "    reverse=reverse*10+dig\n",
    "    num=num//10\n",
    "print(\"Reverse of the number is=\",reverse)"
   ]
  },
  {
   "cell_type": "raw",
   "metadata": {},
   "source": [
    "Function:\n",
    "      Function is a block of code which is used to perform a specific task.\n",
    "      \n",
    "    1.Normal Function syntax\n",
    "           def function_name:\n",
    "                  execute statements\n",
    "                  \n",
    "                 \n",
    "    2.Lambda Function synax\n",
    "            Lambda arguments:expression\n",
    "         Lambda function is also known as anonymous function because there is no need to name the function.\n",
    "         Lambda function can be used to list,dictionaries,tuples.\n",
    "                "
   ]
  },
  {
   "cell_type": "code",
   "execution_count": null,
   "metadata": {},
   "outputs": [],
   "source": [
    "## Basic function\n",
    "\n",
    "def hello():\n",
    "    print(\"Hello All\")\n",
    "    \n",
    "    \n",
    "hello()           ##calling the function"
   ]
  },
  {
   "cell_type": "code",
   "execution_count": null,
   "metadata": {},
   "outputs": [],
   "source": [
    "## Function with parameters\n",
    "\n",
    "def add_this_with_10(x):\n",
    "    return x+10\n",
    "\n",
    "\n",
    "addthiswith10(10)       ##calling the function"
   ]
  },
  {
   "cell_type": "code",
   "execution_count": null,
   "metadata": {},
   "outputs": [],
   "source": [
    "## Function with if,else\n",
    "\n",
    "def even_odd(x):\n",
    "    if x%2==0:\n",
    "        print(\"The number is even\")\n",
    "    else:\n",
    "        print(\"The number is odd\")\n",
    "        \n",
    "        \n",
    "even_odd(10)"
   ]
  },
  {
   "cell_type": "code",
   "execution_count": null,
   "metadata": {},
   "outputs": [],
   "source": [
    "## Lambda Functions\n",
    "\n",
    "cube=lambda x: x*x*x\n",
    "print(cube(2))"
   ]
  },
  {
   "cell_type": "code",
   "execution_count": null,
   "metadata": {},
   "outputs": [],
   "source": [
    "## Lambda Function with filters\n",
    "\n",
    "lst=[1,2,3,4,5,6,7,8]\n",
    "final_lst=list(filter(lambda x: (x%2!=0),lst))\n",
    "print(final_lst)"
   ]
  },
  {
   "cell_type": "code",
   "execution_count": null,
   "metadata": {},
   "outputs": [],
   "source": [
    "## Lambda Function with map    \n",
    "## map function used to modify all of the elements in a list\n",
    "\n",
    "lst=[1,2,3,4,5,6,7,8]\n",
    "final_lst=list(map(lambda x:(x*2),lst))\n",
    "print(final_lst)"
   ]
  },
  {
   "cell_type": "code",
   "execution_count": null,
   "metadata": {},
   "outputs": [],
   "source": [
    "## Lambda Function with reduce\n",
    "## reduce function gives a reduced result\n",
    "\n",
    "from functools import reduce\n",
    "\n",
    "lst=[1,2,3,4,5,6,7,8]\n",
    "sum=reduce((lambda x,y:x+y),lst)\n",
    "print(sum)"
   ]
  },
  {
   "cell_type": "markdown",
   "metadata": {},
   "source": [
    "## Class"
   ]
  },
  {
   "cell_type": "raw",
   "metadata": {},
   "source": [
    "Class:\n",
    "    Class is a user defined data type. int,float,boolean,str\n",
    "    The first letter of the name of a class should be capital.\n",
    "    "
   ]
  },
  {
   "cell_type": "code",
   "execution_count": null,
   "metadata": {},
   "outputs": [],
   "source": [
    "## Creating a new class named Phone with self parameter\n",
    "\n",
    "class Phone:                   \n",
    "    def call(self):\n",
    "        print(\"lets make a call\")\n",
    "    def game(self):\n",
    "        print(\"playing games\")"
   ]
  },
  {
   "cell_type": "code",
   "execution_count": null,
   "metadata": {},
   "outputs": [],
   "source": [
    "## Creating a object for the class named new_phone\n",
    "\n",
    "new_phone=Phone()"
   ]
  },
  {
   "cell_type": "code",
   "execution_count": null,
   "metadata": {},
   "outputs": [],
   "source": [
    "## calling the methods through object\n",
    "\n",
    "new_phone.call()"
   ]
  },
  {
   "cell_type": "code",
   "execution_count": null,
   "metadata": {},
   "outputs": [],
   "source": [
    "## calling the methods through object\n",
    "\n",
    "new_phone.game()"
   ]
  },
  {
   "cell_type": "code",
   "execution_count": null,
   "metadata": {},
   "outputs": [],
   "source": [
    "## Adding new parameter to a class\n",
    "\n",
    "class Phone:\n",
    "    def set_color(self,color):\n",
    "        self.color=color\n",
    "        \n",
    "    def set_cost(self,cost):\n",
    "        self.cost=cost\n",
    "        \n",
    "    def show_color(self):\n",
    "        return self.color\n",
    "    \n",
    "    def show_cost(self):\n",
    "        return self.cost\n",
    "    \n",
    "    def call(self):\n",
    "        print(\"Lets make a call\")\n",
    "        \n",
    "    def game(self):\n",
    "        print(\"Playing game\")"
   ]
  },
  {
   "cell_type": "code",
   "execution_count": null,
   "metadata": {},
   "outputs": [],
   "source": [
    "MI_phone=Phone()"
   ]
  },
  {
   "cell_type": "code",
   "execution_count": null,
   "metadata": {},
   "outputs": [],
   "source": [
    "MI_phone.set_color('black')"
   ]
  },
  {
   "cell_type": "code",
   "execution_count": null,
   "metadata": {},
   "outputs": [],
   "source": [
    "MI_phone.show_color()"
   ]
  },
  {
   "cell_type": "code",
   "execution_count": null,
   "metadata": {},
   "outputs": [],
   "source": [
    "MI_phone.set_cost('100000')"
   ]
  },
  {
   "cell_type": "code",
   "execution_count": null,
   "metadata": {},
   "outputs": [],
   "source": [
    "MI_phone.show_cost()"
   ]
  },
  {
   "cell_type": "code",
   "execution_count": null,
   "metadata": {},
   "outputs": [],
   "source": [
    "## Creating class with a constructor\n",
    "## __init__ is the default key for a constructor\n",
    "\n",
    "class Employee:\n",
    "     def __init__(self,name,age,salary,gender):\n",
    "        self.name=name\n",
    "        self.age=age\n",
    "        self.salary=salary\n",
    "        self.gender=gender\n",
    "        \n",
    "     def show_details(self):\n",
    "        print(\"The name of the employee is\",self.name)\n",
    "        print(\"The age of the employee is\",self.age)\n",
    "        print(\"The salary of the employee is\",self.salary)\n",
    "        print(\"The gender of the employee is\",self.gender)"
   ]
  },
  {
   "cell_type": "code",
   "execution_count": null,
   "metadata": {},
   "outputs": [],
   "source": [
    "employee1=Employee('Raj',20,350000,'Male')"
   ]
  },
  {
   "cell_type": "code",
   "execution_count": null,
   "metadata": {},
   "outputs": [],
   "source": [
    "employee1.show_details()"
   ]
  },
  {
   "cell_type": "markdown",
   "metadata": {},
   "source": [
    "## Inheritance"
   ]
  },
  {
   "cell_type": "raw",
   "metadata": {},
   "source": [
    "Inheritance in python:\n",
    "            One class can inherits the properties of another class\n",
    "         "
   ]
  },
  {
   "cell_type": "code",
   "execution_count": null,
   "metadata": {},
   "outputs": [],
   "source": [
    "## Creating the parent class\n",
    "\n",
    "class Vehicle:\n",
    "    def __init__(self,milage,cost):\n",
    "        self.milage=milage\n",
    "        self.cost=cost\n",
    "    \n",
    "    def show_details(self):\n",
    "        print(\"The milage of the car is\",self.milage)\n",
    "        print(\"The cost of the car is\",self.cost)"
   ]
  },
  {
   "cell_type": "code",
   "execution_count": null,
   "metadata": {},
   "outputs": [],
   "source": [
    "Tesla=Vehicle('300km',8000000)"
   ]
  },
  {
   "cell_type": "code",
   "execution_count": null,
   "metadata": {},
   "outputs": [],
   "source": [
    "Tesla.show_details()"
   ]
  },
  {
   "cell_type": "code",
   "execution_count": null,
   "metadata": {},
   "outputs": [],
   "source": [
    "## creating the child class(sub class)\n",
    "## class 'car' will inherite the properties of the class Vehicle\n",
    "\n",
    "class car(Vehicle):\n",
    "    def show_car(self):\n",
    "        print(\"I am a car\")"
   ]
  },
  {
   "cell_type": "code",
   "execution_count": null,
   "metadata": {},
   "outputs": [],
   "source": [
    "## initiating the object to the class\n",
    "\n",
    "ford=car('200km',2500000)"
   ]
  },
  {
   "cell_type": "code",
   "execution_count": null,
   "metadata": {},
   "outputs": [],
   "source": [
    "ford.show_details()"
   ]
  },
  {
   "cell_type": "code",
   "execution_count": null,
   "metadata": {},
   "outputs": [],
   "source": [
    "## Over riding __init__ method\n",
    "## adding some extra parameters(properties) to the class\n",
    "\n",
    "class car(Vehicle):\n",
    "    def __init__(self,milage,cost,color,tyres):\n",
    "        super().__init__(milage,cost)\n",
    "        self.color=color\n",
    "        self.tyres=tyres\n",
    "        \n",
    "    def show_car_details(self):\n",
    "        print(\"The color of the car is \",self.color)\n",
    "        print(\"The tyres of the car is \",self.tyres)"
   ]
  },
  {
   "cell_type": "code",
   "execution_count": null,
   "metadata": {},
   "outputs": [],
   "source": [
    "hundai=car(10,1000000,'Black',2)"
   ]
  },
  {
   "cell_type": "code",
   "execution_count": null,
   "metadata": {},
   "outputs": [],
   "source": [
    "## calling show_details method from the parent class\n",
    "\n",
    "hundai.show_details()"
   ]
  },
  {
   "cell_type": "code",
   "execution_count": null,
   "metadata": {},
   "outputs": [],
   "source": [
    "## calling show_car_details method from child class\n",
    "\n",
    "hundai.show_car_details()"
   ]
  },
  {
   "cell_type": "markdown",
   "metadata": {},
   "source": [
    "## Types of Inheritance"
   ]
  },
  {
   "cell_type": "raw",
   "metadata": {},
   "source": [
    "Types of Inheritance :\n",
    "            1.Single inheritence\n",
    "                     The child class inherits the properties of another single class.\n",
    "                     \n",
    "            2.Multiple inheritence\n",
    "                     The child class inherits the properties from multiple parent classes.\n",
    "            \n",
    "            3.Multi-level inheritance\n",
    "                     In multi-level inheritance we have a parent,child and grand-child relationship.\n",
    "                     The grand-child class will inherite both the properties of the parent as well as child class\n",
    "                    \n",
    "            4.Hybrid inheritence"
   ]
  },
  {
   "cell_type": "code",
   "execution_count": null,
   "metadata": {},
   "outputs": [],
   "source": [
    "## Multiple inheritance\n",
    "\n",
    "## Parent class 1\n",
    "class Parent1:\n",
    "    def assign_str1(self,str1):\n",
    "        self.str1=str1\n",
    "    \n",
    "    def show_parent1_details(self):\n",
    "        print(self.str1)\n",
    "    \n",
    "\n",
    "    \n",
    "## Parent class 2\n",
    "class Parent2:\n",
    "    def assign_str2(self,str2):\n",
    "        self.str2=str2\n",
    "        \n",
    "    def show_parent2_details(self):\n",
    "        print(self.str2)\n",
    "    \n",
    "    \n",
    "## Child class\n",
    "class Child(Parent1,Parent2):\n",
    "    def assign_str3(self,str3):\n",
    "        self.str3=str3\n",
    "        \n",
    "    def show_str3(self):\n",
    "        print(self.str3)"
   ]
  },
  {
   "cell_type": "code",
   "execution_count": null,
   "metadata": {},
   "outputs": [],
   "source": [
    "d1=Child()"
   ]
  },
  {
   "cell_type": "code",
   "execution_count": null,
   "metadata": {},
   "outputs": [],
   "source": [
    "d1.assign_str1(\"Roger\")\n",
    "d1.show_str1()"
   ]
  },
  {
   "cell_type": "code",
   "execution_count": null,
   "metadata": {},
   "outputs": [],
   "source": [
    "d1.assign_str2(\"Whitebeard\")\n",
    "d1.show_str2()"
   ]
  },
  {
   "cell_type": "code",
   "execution_count": null,
   "metadata": {},
   "outputs": [],
   "source": [
    "d1.assign_str3(\"Luffy\")\n",
    "d1.show_str3()"
   ]
  },
  {
   "cell_type": "code",
   "execution_count": null,
   "metadata": {},
   "outputs": [],
   "source": [
    "## Multi-level inheritance\n",
    "\n",
    "## Parent class\n",
    "class Parent:\n",
    "    def assign_name(self,name):\n",
    "        self.name=name\n",
    "    def show_name(self):\n",
    "        return self.name\n",
    "    \n",
    "## Child class\n",
    "class Child(Parent):\n",
    "    def assign_age(self,age):\n",
    "        self.age=age\n",
    "    def show_age(self):\n",
    "        return self.age\n",
    "    \n",
    "## Grand-child class\n",
    "class Grandchild(Child):\n",
    "    def assign_gender(self,gender):\n",
    "        self.gender=gender\n",
    "    def show_gender(self):\n",
    "        return self.gender"
   ]
  },
  {
   "cell_type": "code",
   "execution_count": null,
   "metadata": {},
   "outputs": [],
   "source": [
    "g1=Grandchild()"
   ]
  },
  {
   "cell_type": "code",
   "execution_count": null,
   "metadata": {},
   "outputs": [],
   "source": [
    "g1.assign_name(\"Dark King\")\n",
    "g1.assign_age(50)\n",
    "g1.assign_gender(\"Male\")"
   ]
  },
  {
   "cell_type": "code",
   "execution_count": null,
   "metadata": {},
   "outputs": [],
   "source": [
    "g1.show_name()"
   ]
  },
  {
   "cell_type": "code",
   "execution_count": null,
   "metadata": {},
   "outputs": [],
   "source": [
    "g1.show_age()"
   ]
  },
  {
   "cell_type": "code",
   "execution_count": null,
   "metadata": {},
   "outputs": [],
   "source": [
    "g1.show_gender()"
   ]
  },
  {
   "cell_type": "code",
   "execution_count": null,
   "metadata": {},
   "outputs": [],
   "source": [
    "a1=10\n",
    "b1=20\n",
    "a1!=b1"
   ]
  },
  {
   "cell_type": "code",
   "execution_count": null,
   "metadata": {},
   "outputs": [],
   "source": [
    "apps_data = [['fac',2,333],\n",
    "             ['inst',4,444],\n",
    "             ['pubg',5,555],\n",
    "             ['whatspp',6,777]]\n",
    "apps_data"
   ]
  },
  {
   "cell_type": "code",
   "execution_count": null,
   "metadata": {},
   "outputs": [],
   "source": [
    "print(apps_data[1])"
   ]
  },
  {
   "cell_type": "code",
   "execution_count": null,
   "metadata": {},
   "outputs": [],
   "source": [
    "print(apps_data[0:3])"
   ]
  },
  {
   "cell_type": "code",
   "execution_count": null,
   "metadata": {},
   "outputs": [],
   "source": []
  }
 ],
 "metadata": {
  "kernelspec": {
   "display_name": "Python 3",
   "language": "python",
   "name": "python3"
  },
  "language_info": {
   "codemirror_mode": {
    "name": "ipython",
    "version": 3
   },
   "file_extension": ".py",
   "mimetype": "text/x-python",
   "name": "python",
   "nbconvert_exporter": "python",
   "pygments_lexer": "ipython3",
   "version": "3.7.6"
  }
 },
 "nbformat": 4,
 "nbformat_minor": 4
}
